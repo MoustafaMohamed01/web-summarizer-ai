{
 "cells": [
  {
   "cell_type": "code",
   "execution_count": 1,
   "id": "e6a952bd-7505-46fc-a963-c02ece621eb8",
   "metadata": {},
   "outputs": [],
   "source": [
    "import os\n",
    "import requests\n",
    "from dotenv import load_dotenv\n",
    "from bs4 import BeautifulSoup\n",
    "from IPython.display import Markdown, display\n",
    "import ollama"
   ]
  },
  {
   "cell_type": "code",
   "execution_count": 2,
   "id": "491082a3-328c-4d68-b638-1153e91423ad",
   "metadata": {},
   "outputs": [],
   "source": [
    "OLLAMA_API = \"http://localhost:11434/api/chat\"\n",
    "HEADERS = {\"Content-Type\": \"application/json\"}\n",
    "MODEL = \"llama3.2\""
   ]
  },
  {
   "cell_type": "code",
   "execution_count": 3,
   "id": "61b863cc-e224-46d7-9a43-b76d12da58a7",
   "metadata": {},
   "outputs": [],
   "source": [
    "class Website:\n",
    "    url:str\n",
    "    title:str\n",
    "    text:str\n",
    "\n",
    "    def __init__(self, url):\n",
    "        self.url = url\n",
    "        response = requests.get(url)\n",
    "        soup = BeautifulSoup(response.content, \"html.parser\")\n",
    "        self.title = soup.title.string if soup.title else \"No title found\"\n",
    "        for irrelevant in soup.body([\"script\", \"style\", \"img\", \"input\"]):\n",
    "            irrelevant.decompose()\n",
    "        self.text = soup.body.get_text(separator=\"\\n\", strip=True)"
   ]
  },
  {
   "cell_type": "code",
   "execution_count": 4,
   "id": "1f097363-0363-471a-bf8c-05862628710e",
   "metadata": {},
   "outputs": [],
   "source": [
    "system_prompt = \"You are an assistant that summarizes website content, focusing on key information while ignoring navigation elements. Respond in markdown format.\""
   ]
  },
  {
   "cell_type": "code",
   "execution_count": 5,
   "id": "dc940db4-439a-49ec-8ad0-a60fb275b826",
   "metadata": {},
   "outputs": [],
   "source": [
    "def user_prompt_for(website):\n",
    "    user_prompt = f\"You are looking of this webssite titled {website.title}\"\n",
    "    user_prompt += \"\\nThe contents of this website is as follows; \\\n",
    "    Please provide a short summary of this website in markdown. \\\n",
    "    If it includes news or announcements, then summerize these too. \\n\\n\"\n",
    "    user_prompt += website.text\n",
    "    return user_prompt"
   ]
  },
  {
   "cell_type": "code",
   "execution_count": 6,
   "id": "b9a27a61-9f5d-4479-b193-4d8e8bbc3660",
   "metadata": {},
   "outputs": [],
   "source": [
    "def messages_for(website):\n",
    "    return [{\"role\": \"user\", \"content\": user_prompt_for(website)}]"
   ]
  },
  {
   "cell_type": "code",
   "execution_count": 7,
   "id": "c8d2b1af-5cf9-4334-8a7f-5a1657f3e550",
   "metadata": {},
   "outputs": [],
   "source": [
    "def summarize(url):\n",
    "    website = Website(url)\n",
    "    messages = messages_for(website)\n",
    "    payload = {\n",
    "        \"model\": MODEL,\n",
    "        \"messages\": messages,\n",
    "        \"stream\": False\n",
    "    }\n",
    "    response = requests.post(OLLAMA_API, json=payload, headers=HEADERS)\n",
    "    response_json = response.json()\n",
    "    return response_json[\"message\"][\"content\"]"
   ]
  },
  {
   "cell_type": "code",
   "execution_count": 8,
   "id": "9c69bc63-ff6b-49f9-9639-9b5b57450cf2",
   "metadata": {},
   "outputs": [],
   "source": [
    "def display_summary(url):\n",
    "    summary = summarize(url)\n",
    "    display(Markdown(summary))\n",
    "    return summary"
   ]
  },
  {
   "cell_type": "code",
   "execution_count": 9,
   "id": "5fe7400d-9130-4279-a8bd-3a9d5af43a76",
   "metadata": {},
   "outputs": [
    {
     "data": {
      "text/markdown": [
       "**Summary of the Website**\n",
       "\n",
       "Moustafa Mohamed's portfolio website showcases his skills and projects as a software engineering student with a passion for data science, AI, and software development.\n",
       "\n",
       "### Skills & Technologies\n",
       "\n",
       "* Programming languages: Python, C, C++\n",
       "* Data analysis and visualization tools: Pandas, NumPy, Matplotlib, Seaborn\n",
       "* Machine learning libraries: Scikit-learn, TensorFlow, PyTorch, Keras\n",
       "* Deep learning frameworks: CNN, Image Classification\n",
       "* Data pre-processing and analysis tools: Git, Jupyter Notebook, Power BI\n",
       "* AI and natural language processing tools: Gemini AI, NLTK\n",
       "\n",
       "### Recent Projects\n",
       "\n",
       "#### Moustafa Mohamed's Portfolio Website\n",
       "\n",
       "This is not a project, but rather the website itself.\n",
       "\n",
       "#### Recent Announcements\n",
       "\n",
       "None. The website does not appear to have any recent announcements or news updates.\n",
       "\n",
       "### Skills Summary\n",
       "\n",
       "Moustafa Mohamed has expertise in various programming languages and data analysis/visualization tools. He is also familiar with machine learning libraries, deep learning frameworks, and AI/natural language processing tools. His skills include:\n",
       "\n",
       "* Python: Pandas, NumPy, Matplotlib, Seaborn, Scikit-learn, TensorFlow, PyTorch, Keras\n",
       "* Data Analysis: Data Visualization, Data Pre-processing, Data Analysis\n",
       "* Machine Learning: Scikit-learn, TensorFlow, PyTorch, Keras\n",
       "* Deep Learning: CNN, Image Classification\n",
       "* AI and Natural Language Processing: Gemini AI, NLTK"
      ],
      "text/plain": [
       "<IPython.core.display.Markdown object>"
      ]
     },
     "metadata": {},
     "output_type": "display_data"
    },
    {
     "name": "stdout",
     "output_type": "stream",
     "text": [
      "**Summary of the Website**\n",
      "\n",
      "Moustafa Mohamed's portfolio website showcases his skills and projects as a software engineering student with a passion for data science, AI, and software development.\n",
      "\n",
      "### Skills & Technologies\n",
      "\n",
      "* Programming languages: Python, C, C++\n",
      "* Data analysis and visualization tools: Pandas, NumPy, Matplotlib, Seaborn\n",
      "* Machine learning libraries: Scikit-learn, TensorFlow, PyTorch, Keras\n",
      "* Deep learning frameworks: CNN, Image Classification\n",
      "* Data pre-processing and analysis tools: Git, Jupyter Notebook, Power BI\n",
      "* AI and natural language processing tools: Gemini AI, NLTK\n",
      "\n",
      "### Recent Projects\n",
      "\n",
      "#### Moustafa Mohamed's Portfolio Website\n",
      "\n",
      "This is not a project, but rather the website itself.\n",
      "\n",
      "#### Recent Announcements\n",
      "\n",
      "None. The website does not appear to have any recent announcements or news updates.\n",
      "\n",
      "### Skills Summary\n",
      "\n",
      "Moustafa Mohamed has expertise in various programming languages and data analysis/visualization tools. He is also familiar with machine learning libraries, deep learning frameworks, and AI/natural language processing tools. His skills include:\n",
      "\n",
      "* Python: Pandas, NumPy, Matplotlib, Seaborn, Scikit-learn, TensorFlow, PyTorch, Keras\n",
      "* Data Analysis: Data Visualization, Data Pre-processing, Data Analysis\n",
      "* Machine Learning: Scikit-learn, TensorFlow, PyTorch, Keras\n",
      "* Deep Learning: CNN, Image Classification\n",
      "* AI and Natural Language Processing: Gemini AI, NLTK\n"
     ]
    }
   ],
   "source": [
    "print(display_summary(\"https://moustafamohamed.netlify.app/\"))"
   ]
  },
  {
   "cell_type": "code",
   "execution_count": null,
   "id": "864f1beb-3a73-4cfc-bffd-0e484846c531",
   "metadata": {},
   "outputs": [],
   "source": []
  }
 ],
 "metadata": {
  "kernelspec": {
   "display_name": "Python 3 (ipykernel)",
   "language": "python",
   "name": "python3"
  },
  "language_info": {
   "codemirror_mode": {
    "name": "ipython",
    "version": 3
   },
   "file_extension": ".py",
   "mimetype": "text/x-python",
   "name": "python",
   "nbconvert_exporter": "python",
   "pygments_lexer": "ipython3",
   "version": "3.11.11"
  }
 },
 "nbformat": 4,
 "nbformat_minor": 5
}
