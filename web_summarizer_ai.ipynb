{
 "cells": [
  {
   "cell_type": "code",
   "execution_count": null,
   "id": "1320f317-f6c9-45e8-97b0-a107afe89cbf",
   "metadata": {},
   "outputs": [],
   "source": [
    "import os\n",
    "import requests\n",
    "from dotenv import load_dotenv\n",
    "from bs4 import BeautifulSoup\n",
    "from IPython.display import Markdown, display\n",
    "import google.generativeai as genai"
   ]
  },
  {
   "cell_type": "code",
   "execution_count": null,
   "id": "e6b1c20b-041d-4b46-bbcc-023e97cd84b0",
   "metadata": {},
   "outputs": [],
   "source": [
    "load_dotenv(override=True)"
   ]
  },
  {
   "cell_type": "code",
   "execution_count": null,
   "id": "3419b60b-1a8e-4b62-857a-cb3c223139e0",
   "metadata": {},
   "outputs": [],
   "source": [
    "def configure_gemini():\n",
    "    api_key = os.getenv(\"GEMINI_API_KEY\")\n",
    "    if not api_key:\n",
    "        print(\"API key is missing. Please check your `.env` file and ensure it contains `GEMINI_API_KEY=your_api_key_here`.\")\n",
    "        return None\n",
    "    if not api_key.startswith(\"AIzaSy\"):\n",
    "        print(\"Invalid API key. Gemini API keys usually start with 'AIzaSy'.\")\n",
    "        return None\n",
    "    if api_key.strip() != api_key:\n",
    "        print(\"Extra spaces detected around your API key. Please remove them.\")\n",
    "        return None\n",
    "    print(\"Great! Your API key looks valid and ready to use.\")\n",
    "    genai.configure(api_key=api_key)\n",
    "    return genai.GenerativeModel('gemini-2.0-flash')"
   ]
  },
  {
   "cell_type": "code",
   "execution_count": null,
   "id": "a3a75026-4819-4282-863e-8a9c7c606f92",
   "metadata": {},
   "outputs": [],
   "source": [
    "model = configure_gemini()"
   ]
  },
  {
   "cell_type": "code",
   "execution_count": null,
   "id": "af7ce43c-cc77-4e8d-9344-a2458be09f0d",
   "metadata": {},
   "outputs": [],
   "source": [
    "if model:\n",
    "    response = model.generate_content(\"Hello Gemini, This is my first ever message to you.\")\n",
    "    print(response.text)"
   ]
  },
  {
   "cell_type": "code",
   "execution_count": null,
   "id": "6229c527-6941-482f-acf2-b6358725c7c1",
   "metadata": {},
   "outputs": [],
   "source": [
    "class Website:\n",
    "    def __init__(self, url: str):\n",
    "        self.url = url\n",
    "        self.title = \"No title found\"\n",
    "        self.text = \"\"\n",
    "        self._scrape_website()\n",
    "\n",
    "    def _scrape_website(self):\n",
    "        try:\n",
    "            response = requests.get(self.url)\n",
    "            response.raise_for_status()\n",
    "            soup = BeautifulSoup(response.content, \"html.parser\")\n",
    "            self.title = soup.title.string if soup.title else self.title\n",
    "            for irrelevant in soup.body([\"script\", \"style\", \"img\", \"input\"]):\n",
    "                irrelevant.decompose()\n",
    "            self.text = soup.body.get_text(separator=\"\\n\", strip=True) if soup.body else self.text\n",
    "        except requests.RequestException as e:\n",
    "            print(f\"Failed to retrieve the website: {e}\")\n",
    "        except Exception as e:\n",
    "            print(f\"An error occurred while parsing the website: {e}\")"
   ]
  },
  {
   "cell_type": "code",
   "execution_count": null,
   "id": "a9d0e2c0-8732-4beb-a0d0-6a61441460c4",
   "metadata": {},
   "outputs": [],
   "source": [
    "SYSTEM_PROMPT = \"You are an assistant that summarizes website content, focusing on key information while ignoring navigation elements. Respond in markdown format.\""
   ]
  },
  {
   "cell_type": "code",
   "execution_count": null,
   "id": "284eb226-245b-4ccd-88d1-ef1a8dd13b84",
   "metadata": {},
   "outputs": [],
   "source": [
    "def generate_user_prompt(website):\n",
    "    user_prompt = f\"You are looking at this website titled: {website.title}\\n\\n\"\n",
    "    user_prompt += \"The contents of this website are as follows. Please provide a short summary in markdown. \"\n",
    "    user_prompt += \"If it includes news or announcements, summarize these too.\\n\\n\"\n",
    "    user_prompt += f\"{website.text}\"\n",
    "    return user_prompt"
   ]
  },
  {
   "cell_type": "code",
   "execution_count": null,
   "id": "b8120331-85cc-4ea5-983e-7c5e6d13a633",
   "metadata": {},
   "outputs": [],
   "source": [
    "def generate_messages(website):\n",
    "    return [\n",
    "        {\"role\": \"system\", \"parts\": [SYSTEM_PROMPT]},\n",
    "        {\"role\": \"user\", \"parts\": [generate_user_prompt(website)]}\n",
    "    ]"
   ]
  },
  {
   "cell_type": "code",
   "execution_count": null,
   "id": "468d74f6-4220-4da1-8604-7d6e0a09fb09",
   "metadata": {},
   "outputs": [],
   "source": [
    "def summarize_website(url):\n",
    "    if not model:\n",
    "        return \"Gemini API is not configured. Cannot summarize.\"\n",
    "    website = Website(url)\n",
    "    user_prompt = generate_user_prompt(website)\n",
    "    response = model.generate_content(user_prompt)\n",
    "    return response.text"
   ]
  },
  {
   "cell_type": "code",
   "execution_count": null,
   "id": "5b61af58-e1ee-4f20-9761-b662e5532c1c",
   "metadata": {},
   "outputs": [],
   "source": [
    "def display_summary(url):\n",
    "    summary = summarize_website(url)\n",
    "    display(Markdown(summary))"
   ]
  },
  {
   "cell_type": "code",
   "execution_count": null,
   "id": "0ca2531f-4915-45c3-aba4-281fe63a0f31",
   "metadata": {},
   "outputs": [],
   "source": [
    "display_summary(\"wesite url\")"
   ]
  },
  {
   "cell_type": "code",
   "execution_count": null,
   "id": "5ce8028e-9df9-4c09-9b07-11f7535bd2f1",
   "metadata": {},
   "outputs": [],
   "source": []
  }
 ],
 "metadata": {
  "kernelspec": {
   "display_name": "Python 3 (ipykernel)",
   "language": "python",
   "name": "python3"
  },
  "language_info": {
   "codemirror_mode": {
    "name": "ipython",
    "version": 3
   },
   "file_extension": ".py",
   "mimetype": "text/x-python",
   "name": "python",
   "nbconvert_exporter": "python",
   "pygments_lexer": "ipython3",
   "version": "3.11.11"
  }
 },
 "nbformat": 4,
 "nbformat_minor": 5
}
